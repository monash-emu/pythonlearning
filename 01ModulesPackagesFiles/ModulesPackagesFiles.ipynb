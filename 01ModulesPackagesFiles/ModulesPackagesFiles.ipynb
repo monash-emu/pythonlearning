{
 "cells": [
  {
   "cell_type": "markdown",
   "id": "8d592963",
   "metadata": {},
   "source": [
    "# Motivation\n",
    "1. Understand what is happening when you import and use Python code\n",
    "2. Write your own python packages/modules; particularly move from 'notebook-first' development into a mixed notebook/package workflow"
   ]
  },
  {
   "cell_type": "code",
   "execution_count": null,
   "id": "e49d3b03",
   "metadata": {},
   "outputs": [],
   "source": [
    "# We end up writing code in notebooks all the time - after all, that's kind of the point...\n",
    "\n",
    "def invert_type(x):\n",
    "    \"\"\"\n",
    "    Type inversion function between float and str\n",
    "    \"\"\"\n",
    "    if isinstance(x, str):\n",
    "        return float(x)\n",
    "    elif isinstance(x, float):\n",
    "        return str(x)\n",
    "    else:\n",
    "        raise TypeError(\"Can't invert type\")"
   ]
  },
  {
   "cell_type": "code",
   "execution_count": null,
   "id": "1ed4e60e",
   "metadata": {},
   "outputs": [],
   "source": [
    "# Our code does something - maybe even something useful (probably not, in this case)\n",
    "\n",
    "invert_type(-512.e-5)"
   ]
  },
  {
   "cell_type": "code",
   "execution_count": null,
   "id": "58cf4191",
   "metadata": {},
   "outputs": [],
   "source": [
    "# Most of the code we use isn't written in the notebook though - it obviously lives somewhere else..."
   ]
  },
  {
   "cell_type": "code",
   "execution_count": null,
   "id": "e09afa44",
   "metadata": {},
   "outputs": [],
   "source": [
    "# If we want to use code from somewhere else, we need to import it...\n",
    "# As you can see, the thing we imported is a module\n",
    "\n",
    "import numpy as np\n",
    "\n",
    "np"
   ]
  },
  {
   "cell_type": "code",
   "execution_count": null,
   "id": "6818a033",
   "metadata": {},
   "outputs": [],
   "source": [
    "# Now we can use functions/classes etc from within this module...\n",
    "\n",
    "np.linspace(0.0,1.0,5)"
   ]
  },
  {
   "cell_type": "code",
   "execution_count": null,
   "id": "5392eae8",
   "metadata": {},
   "outputs": [],
   "source": [
    "# We can use the dir builtin function to query this function object...\n",
    "# As you can see, it has a '__module__' attribute\n",
    "\n",
    "dir(np.linspace)"
   ]
  },
  {
   "cell_type": "code",
   "execution_count": null,
   "id": "91ae4991",
   "metadata": {},
   "outputs": [],
   "source": [
    "# The __module__ attribute reflects where this object was created\n",
    "# This is often what you expect (but not always)\n",
    "\n",
    "np.linspace.__module__"
   ]
  },
  {
   "cell_type": "code",
   "execution_count": null,
   "id": "71a6a535",
   "metadata": {},
   "outputs": [],
   "source": [
    "# Our notebook function above also has a module!\n",
    "# __main__ is the 'default' module created whenever a new python interpreter is run\n",
    "\n",
    "invert_type.__module__"
   ]
  },
  {
   "cell_type": "markdown",
   "id": "3657416f",
   "metadata": {},
   "source": [
    "## sys.modules\n",
    "Where do modules 'live' once they're imported?"
   ]
  },
  {
   "cell_type": "code",
   "execution_count": null,
   "id": "1e3bed67",
   "metadata": {},
   "outputs": [],
   "source": [
    "# Let's examine sys.modules\n",
    "# It's busy in there!\n",
    "# Note that numpy (for example) has a lot of entries!\n",
    "\n",
    "import sys\n",
    "\n",
    "list(sys.modules)"
   ]
  },
  {
   "cell_type": "code",
   "execution_count": null,
   "id": "77f2d816",
   "metadata": {},
   "outputs": [],
   "source": [
    "# Let's take a look at 3 references pointing to the same module..."
   ]
  },
  {
   "cell_type": "code",
   "execution_count": null,
   "id": "e50af813",
   "metadata": {},
   "outputs": [],
   "source": [
    "np.compat"
   ]
  },
  {
   "cell_type": "code",
   "execution_count": null,
   "id": "41008798",
   "metadata": {},
   "outputs": [],
   "source": [
    "sys.modules[\"numpy\"].compat"
   ]
  },
  {
   "cell_type": "code",
   "execution_count": null,
   "id": "cd2c488d",
   "metadata": {},
   "outputs": [],
   "source": [
    "sys.modules[\"numpy.compat\"]"
   ]
  },
  {
   "cell_type": "code",
   "execution_count": null,
   "id": "18390288",
   "metadata": {},
   "outputs": [],
   "source": [
    "# Packages can contain modules, subpackages etc..."
   ]
  },
  {
   "cell_type": "code",
   "execution_count": null,
   "id": "cd448070",
   "metadata": {},
   "outputs": [],
   "source": [
    "# Let's see how far we can push this...\n",
    "# Don't do this in practice!\n",
    "\n",
    "sys.modules[\"__main__\"].npclone = sys.modules[\"numpy\"]"
   ]
  },
  {
   "cell_type": "code",
   "execution_count": null,
   "id": "16ae592b",
   "metadata": {},
   "outputs": [],
   "source": [
    "npclone.sign(-5.0)"
   ]
  },
  {
   "cell_type": "code",
   "execution_count": null,
   "id": "b994bd79",
   "metadata": {},
   "outputs": [],
   "source": [
    "main = sys.modules[\"__main__\"]"
   ]
  },
  {
   "cell_type": "code",
   "execution_count": null,
   "id": "6c23572c",
   "metadata": {},
   "outputs": [],
   "source": [
    "main.main.main.main"
   ]
  },
  {
   "cell_type": "markdown",
   "id": "a3b45a00",
   "metadata": {},
   "source": [
    "## Modules vs Packages\n",
    "\n",
    "Packages are containers for modules \n",
    "\n",
    "Modules are containers for attributes (objects) \n",
    "\n",
    "We can think of packages as being roughly equivalent to directories, \n",
    "and modules as being equivalent to files \n",
    "\n",
    "Like most knowledge, this is wrong, but convenient!"
   ]
  },
  {
   "cell_type": "code",
   "execution_count": null,
   "id": "2e144b75",
   "metadata": {},
   "outputs": [],
   "source": [
    "# Let's have a look at our working directory\n",
    "%ls"
   ]
  },
  {
   "cell_type": "code",
   "execution_count": null,
   "id": "084e0162",
   "metadata": {},
   "outputs": [],
   "source": [
    "import learningmodule"
   ]
  },
  {
   "cell_type": "code",
   "execution_count": null,
   "id": "03c8ae39",
   "metadata": {},
   "outputs": [],
   "source": [
    "learningmodule"
   ]
  },
  {
   "cell_type": "code",
   "execution_count": null,
   "id": "19bdfea8",
   "metadata": {},
   "outputs": [],
   "source": [
    "# This has an empty package attribute; it's just a single file\n",
    "\n",
    "learningmodule.__package__"
   ]
  },
  {
   "cell_type": "code",
   "execution_count": null,
   "id": "818821c7",
   "metadata": {},
   "outputs": [],
   "source": [
    "with open(\"learningmodule.py\",'r') as f:\n",
    "    print(f.read())"
   ]
  },
  {
   "cell_type": "code",
   "execution_count": null,
   "id": "96de3789",
   "metadata": {},
   "outputs": [],
   "source": [
    "dir(learningmodule)"
   ]
  },
  {
   "cell_type": "code",
   "execution_count": null,
   "id": "2b0a8556",
   "metadata": {},
   "outputs": [],
   "source": [
    "# However its members do have a __module__ attribute, namely the learningmodule module itself...\n",
    "\n",
    "learningmodule.afunction.__module__"
   ]
  },
  {
   "cell_type": "code",
   "execution_count": null,
   "id": "c3b41aa2",
   "metadata": {},
   "outputs": [],
   "source": [
    "# ...which is what we find in sys.modules\n",
    "\n",
    "sys.modules[\"learningmodule\"]"
   ]
  },
  {
   "cell_type": "code",
   "execution_count": null,
   "id": "61c3d450",
   "metadata": {},
   "outputs": [],
   "source": [
    "%ls learningpackage"
   ]
  },
  {
   "cell_type": "code",
   "execution_count": null,
   "id": "990aaaa7",
   "metadata": {},
   "outputs": [],
   "source": [
    "import learningpackage"
   ]
  },
  {
   "cell_type": "code",
   "execution_count": null,
   "id": "59843681",
   "metadata": {},
   "outputs": [],
   "source": [
    "# We should be able to access this... right?\n",
    "\n",
    "learningpackage.subpackage"
   ]
  },
  {
   "cell_type": "code",
   "execution_count": null,
   "id": "02025f4e",
   "metadata": {},
   "outputs": [],
   "source": [
    "# ...but this works?\n",
    "\n",
    "from learningpackage import subpackage"
   ]
  },
  {
   "cell_type": "code",
   "execution_count": null,
   "id": "0b5f5ab3",
   "metadata": {},
   "outputs": [],
   "source": [
    "subpackage.AnotherClass"
   ]
  },
  {
   "cell_type": "code",
   "execution_count": null,
   "id": "9c3c0241",
   "metadata": {},
   "outputs": [],
   "source": [
    "# It's got one member... let's have a look\n",
    "\n",
    "subpackage.AnotherClass"
   ]
  },
  {
   "cell_type": "markdown",
   "id": "ff4101fd",
   "metadata": {},
   "source": [
    "## Reloading\n",
    "\n",
    "If we are working on code outside the notebook, then we may want to reflect changes to this code in our current notebook session without restarting (perhaps we've already done some expensive computations, or just have other working state we want to use...) "
   ]
  },
  {
   "cell_type": "code",
   "execution_count": null,
   "id": "f34e66aa",
   "metadata": {},
   "outputs": [],
   "source": [
    "# Let's look at learningmodule\n",
    "learningmodule.afunction(5)"
   ]
  },
  {
   "cell_type": "code",
   "execution_count": null,
   "id": "a957aa7d",
   "metadata": {},
   "outputs": [],
   "source": [
    "# Now - edit this code to change its functionality - make sure you save your edit!\n",
    "\n",
    "learningmodule.afunction(5)"
   ]
  },
  {
   "cell_type": "code",
   "execution_count": null,
   "id": "5a9bd54e",
   "metadata": {},
   "outputs": [],
   "source": [
    "# Right, that was exactly the same\n",
    "# As you've probably figured out already, Python isn't reading from the \n",
    "# filesystem every time you execute code!  So how do we get it to reflect these changes?\n",
    "\n",
    "import learningmodule\n",
    "\n",
    "learningmodule.afunction(5)"
   ]
  },
  {
   "cell_type": "code",
   "execution_count": null,
   "id": "a9b515ad",
   "metadata": {},
   "outputs": [],
   "source": [
    "# That still didn't work - import isn't reloading the code, it's just looking up sys.modules...\n",
    "# We need reload!\n",
    "\n",
    "from importlib import reload"
   ]
  },
  {
   "cell_type": "code",
   "execution_count": null,
   "id": "adbf08b8",
   "metadata": {},
   "outputs": [],
   "source": [
    "reload(learningmodule)\n",
    "\n",
    "learningmodule.afunction(5.0)"
   ]
  },
  {
   "cell_type": "code",
   "execution_count": null,
   "id": "dfd7c4aa",
   "metadata": {},
   "outputs": [],
   "source": [
    "# Alright - what about this?\n",
    "\n",
    "reload(learningpackage)\n",
    "learningpackage.functions.thing(2.0)"
   ]
  },
  {
   "cell_type": "code",
   "execution_count": null,
   "id": "f373487b",
   "metadata": {},
   "outputs": [],
   "source": [
    "learningpackage.functions.thing.__module__"
   ]
  },
  {
   "cell_type": "code",
   "execution_count": null,
   "id": "d9bb099f",
   "metadata": {},
   "outputs": [],
   "source": [
    "# Reload, much like the rest of the import machinery, operates on a per-module basis\n",
    "\n",
    "reload(learningpackage.functions)\n",
    "learningpackage.functions.thing(2.0)"
   ]
  },
  {
   "cell_type": "code",
   "execution_count": null,
   "id": "2ef6526f",
   "metadata": {},
   "outputs": [],
   "source": [
    "# Just looking the python call hierarchy is not enough...\n",
    "\n",
    "reload(learningpackage.functions)\n",
    "\n",
    "learningpackage.functions.extrathing(2.0)"
   ]
  },
  {
   "cell_type": "code",
   "execution_count": null,
   "id": "24aeafa2",
   "metadata": {},
   "outputs": [],
   "source": [
    "# It's about the __module__ attribute..\n",
    "\n",
    "learningpackage.functions.extrathing.__module__"
   ]
  },
  {
   "cell_type": "code",
   "execution_count": null,
   "id": "d6c6ad21",
   "metadata": {},
   "outputs": [],
   "source": [
    "# If we've used the from <module> import <attribute> pattern, things might be different...\n",
    "\n",
    "from learningmodule import afunction\n",
    "reload(learningmodule)\n",
    "\n",
    "afunction(5.0)"
   ]
  },
  {
   "cell_type": "code",
   "execution_count": null,
   "id": "7f631219",
   "metadata": {},
   "outputs": [],
   "source": [
    "# The function is still getting its code from the old module - reload just updates sys.modules,\n",
    "# it doesn't go around scanning all your code...\n",
    "\n",
    "reload(learningmodule)\n",
    "from learningmodule import afunction\n",
    "\n",
    "afunction(5.0)"
   ]
  },
  {
   "cell_type": "code",
   "execution_count": null,
   "id": "c0976b7e",
   "metadata": {},
   "outputs": [],
   "source": []
  }
 ],
 "metadata": {
  "kernelspec": {
   "display_name": "Python 3 (ipykernel)",
   "language": "python",
   "name": "python3"
  },
  "language_info": {
   "codemirror_mode": {
    "name": "ipython",
    "version": 3
   },
   "file_extension": ".py",
   "mimetype": "text/x-python",
   "name": "python",
   "nbconvert_exporter": "python",
   "pygments_lexer": "ipython3",
   "version": "3.10.10"
  }
 },
 "nbformat": 4,
 "nbformat_minor": 5
}
