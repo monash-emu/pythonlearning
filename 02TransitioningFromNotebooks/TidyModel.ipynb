{
 "cells": [
  {
   "cell_type": "code",
   "execution_count": null,
   "id": "af05922f",
   "metadata": {},
   "outputs": [],
   "source": [
    "import pandas as pd\n",
    "\n",
    "from learningmodel import model\n",
    "from learningmodel import helpers"
   ]
  },
  {
   "cell_type": "code",
   "execution_count": null,
   "id": "a1427265",
   "metadata": {},
   "outputs": [],
   "source": [
    "m = model.build_model()"
   ]
  },
  {
   "cell_type": "code",
   "execution_count": null,
   "id": "2ea4a43e",
   "metadata": {},
   "outputs": [],
   "source": [
    "m.run(model.DEFAULT_PARAMS)"
   ]
  },
  {
   "cell_type": "code",
   "execution_count": null,
   "id": "9ae040bd",
   "metadata": {},
   "outputs": [],
   "source": [
    "infection_data = helpers.load_infection_data()"
   ]
  },
  {
   "cell_type": "code",
   "execution_count": null,
   "id": "6ec14c68",
   "metadata": {},
   "outputs": [],
   "source": [
    "m.get_derived_outputs_df()[\"infection\"].plot()\n",
    "infection_data.plot(style='.')"
   ]
  }
 ],
 "metadata": {
  "@webio": {
   "lastCommId": null,
   "lastKernelId": null
  },
  "kernelspec": {
   "display_name": "Python 3 (ipykernel)",
   "language": "python",
   "name": "python3"
  },
  "language_info": {
   "codemirror_mode": {
    "name": "ipython",
    "version": 3
   },
   "file_extension": ".py",
   "mimetype": "text/x-python",
   "name": "python",
   "nbconvert_exporter": "python",
   "pygments_lexer": "ipython3",
   "version": "3.10.10"
  }
 },
 "nbformat": 4,
 "nbformat_minor": 5
}
