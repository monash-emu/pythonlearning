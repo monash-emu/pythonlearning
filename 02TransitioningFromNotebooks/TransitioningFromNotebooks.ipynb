{
 "cells": [
  {
   "cell_type": "markdown",
   "id": "c14982d0",
   "metadata": {},
   "source": [
    "## How to transition code from notebooks into modules"
   ]
  },
  {
   "cell_type": "code",
   "execution_count": null,
   "id": "affbc7f4",
   "metadata": {},
   "outputs": [],
   "source": [
    "from datetime import datetime\n",
    "\n",
    "import numpy as np\n",
    "import pandas as pd\n",
    "from jax import numpy as jnp\n",
    "\n",
    "from summer2 import CompartmentalModel, Stratification\n",
    "from summer2.parameters import Parameter as param\n",
    "\n",
    "from summer2.functions import time as stf\n",
    "from summer2.population import calculate_initial_population\n"
   ]
  },
  {
   "cell_type": "code",
   "execution_count": null,
   "id": "dfdebdbf",
   "metadata": {},
   "outputs": [],
   "source": [
    "m = CompartmentalModel([0,100],[\"S\",\"I\",\"R\"],\"I\", ref_date=datetime(2019,1,1))\n",
    "\n",
    "m.set_initial_population({\"S\": 1000.0})\n",
    "\n",
    "# Seed at seed_rate, from a parameterised start time, for a fixed length of 7 days\n",
    "seed_func = stf.get_piecewise_function([param(\"seed_start\"),param(\"seed_start\")+7.0], [0.0,param(\"seed_rate\"),0.0])\n",
    "\n",
    "m.add_importation_flow(\"seed\", seed_func, \"I\", split_imports=True)\n",
    "\n",
    "m.add_infection_frequency_flow(\"infection\", param(\"contact_rate\"), \"S\", \"I\")\n",
    "m.add_transition_flow(\"recovery\", param(\"recovery_rate\"), \"I\", \"R\")\n",
    "\n",
    "m.request_output_for_flow(\"infection\", \"infection\")\n",
    "\n",
    "for c in [\"S\",\"I\",\"R\"]:\n",
    "    m.request_output_for_compartments(c, c)"
   ]
  },
  {
   "cell_type": "markdown",
   "id": "befd5244",
   "metadata": {},
   "source": [
    "### Rewriting as a function\n",
    "\n",
    "The first step in tidying up notebooks is usually identifying code that can be moved from __main__ (ie \"directly in the notebook\") to separate functions"
   ]
  },
  {
   "cell_type": "code",
   "execution_count": null,
   "id": "a122bd66",
   "metadata": {},
   "outputs": [],
   "source": [
    "# Let's take a look at our earlier definition of the seed function\n",
    "\n",
    "seed_func = stf.get_piecewise_function([param(\"seed_start\"),param(\"seed_start\")+7.0], [0.0,param(\"seed_rate\"),0.0])\n",
    "\n",
    "# The initial \"naive\" function - it's just our code from before but moved into a function\n",
    "# This can still be extremely valuable for things that we might want to call frequently (especially in an interactive context),\n",
    "# and is much better than just cutting and pasting the original code each time we want to call it\n",
    "def get_seed_function():\n",
    "    return stf.get_piecewise_function([seed_start,seed_start+seed_duration], [0.0,param(\"seed_rate\"),0.0])\n",
    "\n",
    "# What if we wanted multiple seed functions for different strains?\n",
    "# Here we move everything we might reasonably need into an argument\n",
    "def get_seed_function(seed_start, seed_duration, seed_rate):\n",
    "    return stf.get_piecewise_function([seed_start,seed_start+seed_duration], [0.0,seed_rate,0.0])"
   ]
  },
  {
   "cell_type": "code",
   "execution_count": null,
   "id": "2acde2b1",
   "metadata": {},
   "outputs": [],
   "source": [
    "# Generate with some fixed values, no summer2 parameter logic in here, so convenient for testing..\n",
    "seed_func_fixed = get_seed_function(50.0, 7.0, 1.0)\n",
    "\n",
    "# Get the values of this function at each of the model times\n",
    "# get_time_callable will convert a ComputeGraph Function into a normal python function whose first argument is time\n",
    "values = stf.get_time_callable(seed_func_fixed)(m.times)\n",
    "\n",
    "pd.Series(values,m.times).plot()"
   ]
  },
  {
   "cell_type": "code",
   "execution_count": null,
   "id": "00556abd",
   "metadata": {},
   "outputs": [],
   "source": [
    "# A more complicated example - but a useful one!\n",
    "seed_func_strain1 = get_seed_function(param(\"strain1_seed_start\"), 7.0, param(\"strain1_seed_rate\"))\n",
    "seed_func_strain2 = get_seed_function(param(\"strain2_seed_start\"), 7.0, param(\"strain2_seed_rate\"))\n",
    "\n",
    "seed_params = {\n",
    "    \"strain1_seed_start\": 20.0,\n",
    "    \"strain1_seed_rate\": 1.0,\n",
    "    \"strain2_seed_start\": 50.0,\n",
    "    \"strain2_seed_rate\": 2.5\n",
    "}\n",
    "\n",
    "pd.DataFrame({\n",
    "    \"strain1\": stf.get_time_callable(seed_func_strain1)(m.times, seed_params),\n",
    "    \"strain2\": stf.get_time_callable(seed_func_strain2)(m.times, seed_params),\n",
    "}, index=m.get_epoch().index_to_dti(m.times)).plot()"
   ]
  },
  {
   "cell_type": "markdown",
   "id": "fad0f447",
   "metadata": {},
   "source": [
    "### A note on Epochs"
   ]
  },
  {
   "cell_type": "code",
   "execution_count": null,
   "id": "2557a315",
   "metadata": {},
   "outputs": [],
   "source": [
    "# Epochs provide a means of converting between calendar time and model time\n",
    "\n",
    "epoch = m.get_epoch()\n",
    "epoch"
   ]
  },
  {
   "cell_type": "code",
   "execution_count": null,
   "id": "2267e860",
   "metadata": {},
   "outputs": [],
   "source": [
    "epoch.number_to_datetime(55)"
   ]
  },
  {
   "cell_type": "code",
   "execution_count": null,
   "id": "58f75874",
   "metadata": {},
   "outputs": [],
   "source": [
    "epoch.index_to_dti(m.times)"
   ]
  },
  {
   "cell_type": "markdown",
   "id": "06ea72f5",
   "metadata": {},
   "source": [
    "### ...back to running the model"
   ]
  },
  {
   "cell_type": "code",
   "execution_count": null,
   "id": "71aa4b95",
   "metadata": {},
   "outputs": [],
   "source": [
    "parameters = {\n",
    "    \"seed_start\": epoch.datetime_to_number(datetime(2019, 2,1)),\n",
    "    \"seed_rate\": 2.0,\n",
    "    \"contact_rate\": 0.4,\n",
    "    \"recovery_rate\": 0.1\n",
    "}"
   ]
  },
  {
   "cell_type": "code",
   "execution_count": null,
   "id": "c435053b",
   "metadata": {},
   "outputs": [],
   "source": [
    "m.run(parameters)"
   ]
  },
  {
   "cell_type": "code",
   "execution_count": null,
   "id": "82d07071",
   "metadata": {},
   "outputs": [],
   "source": [
    "m.get_derived_outputs_df().plot()"
   ]
  },
  {
   "cell_type": "code",
   "execution_count": null,
   "id": "54727dc9",
   "metadata": {},
   "outputs": [],
   "source": [
    "from learningmodel import model"
   ]
  },
  {
   "cell_type": "code",
   "execution_count": null,
   "id": "c6126878",
   "metadata": {},
   "outputs": [],
   "source": [
    "m = model.build_model()\n",
    "m"
   ]
  },
  {
   "cell_type": "code",
   "execution_count": null,
   "id": "25dd54b5",
   "metadata": {},
   "outputs": [],
   "source": [
    "# If we're still working on this model code (but not enough to justify keeping it in the notebook),\n",
    "# we'll probably want to keep reload handy..."
   ]
  },
  {
   "cell_type": "code",
   "execution_count": null,
   "id": "af3fe1a2",
   "metadata": {},
   "outputs": [],
   "source": [
    "from importlib import reload\n",
    "reload(model)"
   ]
  },
  {
   "cell_type": "code",
   "execution_count": null,
   "id": "f4d15d34",
   "metadata": {},
   "outputs": [],
   "source": [
    "m = model.build_model()"
   ]
  },
  {
   "cell_type": "code",
   "execution_count": null,
   "id": "0232a534",
   "metadata": {},
   "outputs": [],
   "source": [
    "m.run(model.DEFAULT_PARAMS)"
   ]
  },
  {
   "cell_type": "code",
   "execution_count": null,
   "id": "d31a5d7c",
   "metadata": {},
   "outputs": [],
   "source": [
    "m.get_derived_outputs_df().plot()"
   ]
  },
  {
   "cell_type": "code",
   "execution_count": null,
   "id": "c692789a",
   "metadata": {},
   "outputs": [],
   "source": [
    "pd.read_csv(\"learningmodel/data/infections.csv\")"
   ]
  },
  {
   "cell_type": "code",
   "execution_count": null,
   "id": "7979fc17",
   "metadata": {},
   "outputs": [],
   "source": [
    "cd .."
   ]
  },
  {
   "cell_type": "code",
   "execution_count": null,
   "id": "1af31412",
   "metadata": {},
   "outputs": [],
   "source": [
    "pd.read_csv(\"learningmodel/data/infections.csv\")"
   ]
  },
  {
   "cell_type": "code",
   "execution_count": null,
   "id": "ff66f1af",
   "metadata": {},
   "outputs": [],
   "source": [
    "from learningmodel.helpers import DATA_PATH"
   ]
  },
  {
   "cell_type": "code",
   "execution_count": null,
   "id": "a952f77b",
   "metadata": {},
   "outputs": [],
   "source": [
    "pd.read_csv(DATA_PATH / \"infections.csv\", parse_dates=[\"date\"], index_col=\"date\").plot()"
   ]
  },
  {
   "cell_type": "code",
   "execution_count": null,
   "id": "5e5836e6",
   "metadata": {},
   "outputs": [],
   "source": []
  }
 ],
 "metadata": {
  "@webio": {
   "lastCommId": null,
   "lastKernelId": null
  },
  "kernelspec": {
   "display_name": "Python 3 (ipykernel)",
   "language": "python",
   "name": "python3"
  },
  "language_info": {
   "codemirror_mode": {
    "name": "ipython",
    "version": 3
   },
   "file_extension": ".py",
   "mimetype": "text/x-python",
   "name": "python",
   "nbconvert_exporter": "python",
   "pygments_lexer": "ipython3",
   "version": "3.10.10"
  }
 },
 "nbformat": 4,
 "nbformat_minor": 5
}
